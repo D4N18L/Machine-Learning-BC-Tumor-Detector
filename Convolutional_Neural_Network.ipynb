{
  "nbformat": 4,
  "nbformat_minor": 0,
  "metadata": {
    "colab": {
      "name": "Convolutional Neural Network",
      "provenance": [],
      "toc_visible": true,
      "authorship_tag": "ABX9TyPkzyjSSj435jH3C7XYVfHj",
      "include_colab_link": true
    },
    "kernelspec": {
      "name": "python3",
      "display_name": "Python 3"
    }
  },
  "cells": [
    {
      "cell_type": "markdown",
      "metadata": {
        "id": "view-in-github",
        "colab_type": "text"
      },
      "source": [
        "<a href=\"https://colab.research.google.com/github/D4N18L/Tumor_Detector_CNN_Model/blob/main/Convolutional_Neural_Network.ipynb\" target=\"_parent\"><img src=\"https://colab.research.google.com/assets/colab-badge.svg\" alt=\"Open In Colab\"/></a>"
      ]
    },
    {
      "cell_type": "markdown",
      "metadata": {
        "id": "vYcD4tbkBAvJ"
      },
      "source": [
        "# **IMPORT NECCESSARY LIBRARIES **\r\n",
        "\r\n",
        "\r\n"
      ]
    },
    {
      "cell_type": "code",
      "metadata": {
        "id": "WD4bWsn3AVvB"
      },
      "source": [
        "import  numpy as np\r\n",
        "from numpy import asarray\r\n",
        "import cv2\r\n",
        "import matplotlib.pyplot as plt\r\n",
        "\r\n"
      ],
      "execution_count": null,
      "outputs": []
    },
    {
      "cell_type": "markdown",
      "metadata": {
        "id": "FQht2R9hJXBS"
      },
      "source": [
        "# ***READ IMAGE***"
      ]
    },
    {
      "cell_type": "code",
      "metadata": {
        "id": "rvPrW5QsGG-T"
      },
      "source": [
        "img_to_read = cv2.imread('pratice.png', cv2.IMREAD_GRAYSCALE)/255\r\n",
        "plt.imshow(img_to_read , cmap = 'gray')\r\n",
        "plt.show()\r\n"
      ],
      "execution_count": null,
      "outputs": []
    },
    {
      "cell_type": "markdown",
      "metadata": {
        "id": "bfIo1LpKGh5s"
      },
      "source": [
        "# **CONFIGURE ROWS AND COLUMNS**"
      ]
    },
    {
      "cell_type": "code",
      "metadata": {
        "id": "RiWB5GdrHZsY"
      },
      "source": [
        "img_to_read.shape"
      ],
      "execution_count": null,
      "outputs": []
    },
    {
      "cell_type": "code",
      "metadata": {
        "id": "VjO2CMz2Jxe5"
      },
      "source": [
        ""
      ],
      "execution_count": null,
      "outputs": []
    }
  ]
}